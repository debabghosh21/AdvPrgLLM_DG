{
  "nbformat": 4,
  "nbformat_minor": 0,
  "metadata": {
    "colab": {
      "provenance": [],
      "mount_file_id": "16Q_2t9wXCdv2xRUnjMKnoh_SIwH7HU1L",
      "authorship_tag": "ABX9TyNF5G0R5ZEio6RVzVmbBQGB",
      "include_colab_link": true
    },
    "kernelspec": {
      "name": "python3",
      "display_name": "Python 3"
    },
    "language_info": {
      "name": "python"
    }
  },
  "cells": [
    {
      "cell_type": "markdown",
      "metadata": {
        "id": "view-in-github",
        "colab_type": "text"
      },
      "source": [
        "<a href=\"https://colab.research.google.com/github/debabghosh21/AdvPrgLLM_DG/blob/main/AdvPrgLLM_DG.ipynb\" target=\"_parent\"><img src=\"https://colab.research.google.com/assets/colab-badge.svg\" alt=\"Open In Colab\"/></a>"
      ]
    },
    {
      "cell_type": "code",
      "execution_count": 1,
      "metadata": {
        "id": "yGysUy8-3yFw"
      },
      "outputs": [],
      "source": [
        "num_list = [1,2,3,4,5,6]"
      ]
    },
    {
      "cell_type": "code",
      "source": [
        "## Fibonaci series\n",
        "\n",
        "from functools import reduce\n",
        "\n",
        "fs = lambda n: reduce(lambda x, _: x+[x[-1]+x[-2]],\n",
        "\t\t\t\t\t\t\t\trange(n-2), [0, 1])\n",
        "\n",
        "print(fs(10))\n"
      ],
      "metadata": {
        "colab": {
          "base_uri": "https://localhost:8080/"
        },
        "id": "lt1levglCR9L",
        "outputId": "757019f6-af9a-4d7f-b490-416b0e1f2915"
      },
      "execution_count": 4,
      "outputs": [
        {
          "output_type": "stream",
          "name": "stdout",
          "text": [
            "[0, 1, 1, 2, 3, 5, 8, 13, 21, 34]\n"
          ]
        }
      ]
    },
    {
      "cell_type": "code",
      "source": [
        "from collections import Counter\n",
        "\n",
        "def create_bow(sentences):\n",
        "    # Tokenize each sentence\n",
        "    tokenized_sentences = [sentence.split() for sentence in sentences]\n",
        "\n",
        "    # Flatten the list of tokens\n",
        "    all_tokens = [token for sentence_tokens in tokenized_sentences for token in sentence_tokens]\n",
        "\n",
        "    # Count the occurrences of each token\n",
        "    token_counts = Counter(all_tokens)\n",
        "\n",
        "    # Create a vocabulary dictionary\n",
        "    vocabulary = {token: idx for idx, token in enumerate(token_counts.keys())}\n",
        "\n",
        "    # Create BoW vectors for each sentence\n",
        "    bow_vectors = []\n",
        "    for sentence_tokens in tokenized_sentences:\n",
        "        bow_vector = [token_counts[token] if token in token_counts else 0 for token in vocabulary]\n",
        "        bow_vectors.append(bow_vector)\n",
        "\n",
        "    return bow_vectors, vocabulary\n",
        "\n",
        "sentences = [\"the quick brown fox jumps over the brown dog\", \"the dog barks loudly\", \"the cat sleeps peacefully\"]\n",
        "bow_vectors, vocabulary = create_bow(sentences)\n",
        "\n",
        "# Print the BoW vectors\n",
        "for i, bow_vector in enumerate(bow_vectors):\n",
        "    print(f\"Sentence {i + 1}: {bow_vector}\")\n",
        "\n",
        "# Print the vocabulary\n",
        "print(\"Vocabulary:\")\n",
        "for idx, token in enumerate(vocabulary.keys()):\n",
        "    print(f\"{idx}: '{token}'\")\n"
      ],
      "metadata": {
        "colab": {
          "base_uri": "https://localhost:8080/"
        },
        "id": "Kk-c_RnNG5rY",
        "outputId": "463e0081-c44d-495f-db50-1b796a06d3af"
      },
      "execution_count": 5,
      "outputs": [
        {
          "output_type": "stream",
          "name": "stdout",
          "text": [
            "Sentence 1: [4, 1, 2, 1, 1, 1, 2, 1, 1, 1, 1, 1]\n",
            "Sentence 2: [4, 1, 2, 1, 1, 1, 2, 1, 1, 1, 1, 1]\n",
            "Sentence 3: [4, 1, 2, 1, 1, 1, 2, 1, 1, 1, 1, 1]\n",
            "Vocabulary:\n",
            "0: 'the'\n",
            "1: 'quick'\n",
            "2: 'brown'\n",
            "3: 'fox'\n",
            "4: 'jumps'\n",
            "5: 'over'\n",
            "6: 'dog'\n",
            "7: 'barks'\n",
            "8: 'loudly'\n",
            "9: 'cat'\n",
            "10: 'sleeps'\n",
            "11: 'peacefully'\n"
          ]
        }
      ]
    },
    {
      "cell_type": "code",
      "source": [],
      "metadata": {
        "id": "QlGjVFwecvVn"
      },
      "execution_count": null,
      "outputs": []
    }
  ]
}